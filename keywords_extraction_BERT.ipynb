{
 "cells": [
  {
   "cell_type": "code",
   "execution_count": null,
   "metadata": {
    "id": "j1ynfrle1XUA"
   },
   "outputs": [],
   "source": [
    "import numpy as np\n",
    "import pandas as pd\n"
   ]
  },
  {
   "cell_type": "code",
   "execution_count": null,
   "metadata": {
    "id": "jgKJkS41IwQb"
   },
   "outputs": [],
   "source": [
    "doc = pd.read_csv(\"tweets.csv\")\n",
    "doc = doc['clean_sentences']\n",
    "doc = doc.fillna('')  # only the comments has NaN's"
   ]
  },
  {
   "cell_type": "code",
   "execution_count": null,
   "metadata": {
    "id": "Zs9n54mGP-Wz"
   },
   "outputs": [],
   "source": [
    "list = doc.values.tolist()"
   ]
  },
  {
   "cell_type": "code",
   "execution_count": null,
   "metadata": {
    "id": "inJur5yRSdVX"
   },
   "outputs": [],
   "source": [
    "tw = '.'.join(list) \n"
   ]
  },
  {
   "cell_type": "code",
   "execution_count": null,
   "metadata": {
    "id": "mtrsWU5uVTAt"
   },
   "outputs": [],
   "source": [
    "from keybert import KeyBERT\n",
    "kw_extractor = KeyBERT('distilbert-base-nli-mean-tokens')"
   ]
  },
  {
   "cell_type": "code",
   "execution_count": null,
   "metadata": {
    "colab": {
     "base_uri": "https://localhost:8080/"
    },
    "id": "HY_BZyzkfMMq",
    "outputId": "2e277c0d-5735-4fbc-da3e-686fb3402499"
   },
   "outputs": [
    {
     "name": "stdout",
     "output_type": "stream",
     "text": [
      "Keywords of article \n",
      " [('covid silaturahmitanpahenti idulfitrimembawaberkah', 0.8297), ('covid negara kitapernahhampirberjaya', 0.8107), ('covid kitajagakita allahjagakita', 0.8056), ('covid taaktahula habis', 0.8049), ('rinduawakseparuhnyawa caplocksebabakumarahbetul terfikir', 0.803), ('covid kitajagakita rakyatjagarakyat', 0.801), ('covid jabatanpendidikannegerisembilan covid', 0.7999), ('covid hura tangkapgubernurjatim', 0.7976), ('covid kitajagakita jagasop', 0.7976), ('idulfitrimembawaberkah kes covid', 0.7955), ('covid tah kerajaaangagal', 0.7947), ('covid kerajaaan ziarah', 0.794), ('keluarga jagadirijagakeluarga dudukrumah', 0.7927), ('habih covid kerajaaangagal', 0.7918), ('menteri tajuddinletakjawatan covid', 0.7916), ('covid tolong kerjasama', 0.7909), ('covid tuduh kerajaaangagal', 0.7908), ('covid innalillahiwainnailayhirajiun menang', 0.7906), ('silaturahmitanpahenti idulfitrimembawaberkah kes', 0.7904), ('covid teruk kitasemuagagal', 0.7887)]\n"
     ]
    }
   ],
   "source": [
    "keywords = kw_extractor.extract_keywords(tw, keyphrase_ngram_range=(3, 3), top_n=20)\n",
    "print(\"Keywords of article\", \"\\n\", keywords)"
   ]
  },
  {
   "cell_type": "code",
   "execution_count": null,
   "metadata": {
    "colab": {
     "base_uri": "https://localhost:8080/"
    },
    "id": "YW3C09wkkGGx",
    "outputId": "61f15adc-4aee-4533-bcf6-6f4cfd1d3126"
   },
   "outputs": [
    {
     "name": "stdout",
     "output_type": "stream",
     "text": [
      "Keywords of article \n",
      " [('covid indonesia naudzubillah', 0.8536), ('covid indonesia patuhtidakmudik', 0.8483), ('covid lebaran jakarta', 0.8462), ('hadiah jakarta covid', 0.8462), ('masuk jakarta covid', 0.8423), ('covid jakarta langsung', 0.8421), ('lihatnovelbaswedan lbh jakarta', 0.84), ('covid indonesia kampanye', 0.8378), ('covid indonesiabebascovid mudik', 0.8377), ('covid kakanya jakarta', 0.8372), ('takut jakarta covid', 0.8368), ('covid jakarta rumah', 0.8364), ('sayabersamaaniesbaswedan covid jakarta', 0.8363), ('covid camat jakarta', 0.8363), ('jakartahhh lihat situasi', 0.8363), ('covid jakarta njirlahh', 0.8363), ('covid jakarta ikhtiar', 0.8361), ('jakarta covid regulasi', 0.8359), ('covid indonesia divhumas', 0.8358), ('covid indonesia makam', 0.8358)]\n"
     ]
    }
   ],
   "source": [
    "keywords = kw_extractor.extract_keywords(tw, keyphrase_ngram_range=(3, 3), top_n=20)\n",
    "print(\"Keywords of article\", \"\\n\", keywords)"
   ]
  },
  {
   "cell_type": "markdown",
   "metadata": {
    "id": "TVrLXlPs04-_"
   },
   "source": [
    "###########################################################################"
   ]
  }
 ],
 "metadata": {
  "accelerator": "GPU",
  "colab": {
   "collapsed_sections": [],
   "name": "task1_keywords_7721",
   "provenance": []
  },
  "kernelspec": {
   "display_name": "Python 3",
   "language": "python",
   "name": "python3"
  },
  "language_info": {
   "codemirror_mode": {
    "name": "ipython",
    "version": 3
   },
   "file_extension": ".py",
   "mimetype": "text/x-python",
   "name": "python",
   "nbconvert_exporter": "python",
   "pygments_lexer": "ipython3",
   "version": "3.7.6"
  }
 },
 "nbformat": 4,
 "nbformat_minor": 4
}
