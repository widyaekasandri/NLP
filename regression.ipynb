{
 "cells": [
  {
   "cell_type": "code",
   "execution_count": null,
   "metadata": {
    "id": "O7gN4sPSciEe"
   },
   "outputs": [],
   "source": [
    "import numpy as np \n",
    "import pandas as pd \n",
    "import torch\n",
    "import torch.nn as nn\n",
    "import matplotlib.pyplot as plt\n",
    "import seaborn as sns\n",
    "from sklearn import preprocessing\n",
    "import time\n",
    "from datetime import datetime"
   ]
  },
  {
   "cell_type": "code",
   "execution_count": null,
   "metadata": {
    "id": "vEVNz0aagmFb"
   },
   "outputs": [],
   "source": [
    "def rmse(predictions, targets):\n",
    "    return np.sqrt(((predictions - targets) ** 2).mean())\n",
    "\n",
    "def mse(predict,target):\n",
    "    return ((predict-target)**2).mean()\n",
    "\n",
    "def mae(predict,target):\n",
    "    return (abs(predict-target)).mean()\n",
    "\n",
    "def mape(predict,target):\n",
    "    return ( abs((target - predict) / target).mean()) * 100"
   ]
  },
  {
   "cell_type": "code",
   "execution_count": null,
   "metadata": {
    "colab": {
     "base_uri": "https://localhost:8080/",
     "height": 1000
    },
    "id": "PmvfeGxrcjTe",
    "outputId": "b7a7627e-31cd-46b1-9fd9-1447ccceac12"
   },
   "outputs": [
    {
     "data": {
      "text/html": [
       "<div>\n",
       "<style scoped>\n",
       "    .dataframe tbody tr th:only-of-type {\n",
       "        vertical-align: middle;\n",
       "    }\n",
       "\n",
       "    .dataframe tbody tr th {\n",
       "        vertical-align: top;\n",
       "    }\n",
       "\n",
       "    .dataframe thead th {\n",
       "        text-align: right;\n",
       "    }\n",
       "</style>\n",
       "<table border=\"1\" class=\"dataframe\">\n",
       "  <thead>\n",
       "    <tr style=\"text-align: right;\">\n",
       "      <th></th>\n",
       "      <th>Date</th>\n",
       "      <th>New Cases</th>\n",
       "    </tr>\n",
       "  </thead>\n",
       "  <tbody>\n",
       "    <tr>\n",
       "      <th>0</th>\n",
       "      <td>2021-05-01 00:00:00+00:00</td>\n",
       "      <td>4512</td>\n",
       "    </tr>\n",
       "    <tr>\n",
       "      <th>1</th>\n",
       "      <td>2021-05-02 00:00:00+00:00</td>\n",
       "      <td>4394</td>\n",
       "    </tr>\n",
       "    <tr>\n",
       "      <th>2</th>\n",
       "      <td>2021-05-03 00:00:00+00:00</td>\n",
       "      <td>4730</td>\n",
       "    </tr>\n",
       "    <tr>\n",
       "      <th>3</th>\n",
       "      <td>2021-05-04 00:00:00+00:00</td>\n",
       "      <td>4369</td>\n",
       "    </tr>\n",
       "    <tr>\n",
       "      <th>4</th>\n",
       "      <td>2021-05-05 00:00:00+00:00</td>\n",
       "      <td>5285</td>\n",
       "    </tr>\n",
       "    <tr>\n",
       "      <th>5</th>\n",
       "      <td>2021-05-06 00:00:00+00:00</td>\n",
       "      <td>5647</td>\n",
       "    </tr>\n",
       "    <tr>\n",
       "      <th>6</th>\n",
       "      <td>2021-05-07 00:00:00+00:00</td>\n",
       "      <td>6327</td>\n",
       "    </tr>\n",
       "    <tr>\n",
       "      <th>7</th>\n",
       "      <td>2021-05-08 00:00:00+00:00</td>\n",
       "      <td>6130</td>\n",
       "    </tr>\n",
       "    <tr>\n",
       "      <th>8</th>\n",
       "      <td>2021-05-09 00:00:00+00:00</td>\n",
       "      <td>3922</td>\n",
       "    </tr>\n",
       "    <tr>\n",
       "      <th>9</th>\n",
       "      <td>2021-05-10 00:00:00+00:00</td>\n",
       "      <td>4891</td>\n",
       "    </tr>\n",
       "    <tr>\n",
       "      <th>10</th>\n",
       "      <td>2021-05-11 00:00:00+00:00</td>\n",
       "      <td>5021</td>\n",
       "    </tr>\n",
       "    <tr>\n",
       "      <th>11</th>\n",
       "      <td>2021-05-12 00:00:00+00:00</td>\n",
       "      <td>4608</td>\n",
       "    </tr>\n",
       "    <tr>\n",
       "      <th>12</th>\n",
       "      <td>2021-05-13 00:00:00+00:00</td>\n",
       "      <td>3448</td>\n",
       "    </tr>\n",
       "    <tr>\n",
       "      <th>13</th>\n",
       "      <td>2021-05-14 00:00:00+00:00</td>\n",
       "      <td>2633</td>\n",
       "    </tr>\n",
       "    <tr>\n",
       "      <th>14</th>\n",
       "      <td>2021-05-15 00:00:00+00:00</td>\n",
       "      <td>2385</td>\n",
       "    </tr>\n",
       "    <tr>\n",
       "      <th>15</th>\n",
       "      <td>2021-05-16 00:00:00+00:00</td>\n",
       "      <td>3080</td>\n",
       "    </tr>\n",
       "    <tr>\n",
       "      <th>16</th>\n",
       "      <td>2021-05-17 00:00:00+00:00</td>\n",
       "      <td>4295</td>\n",
       "    </tr>\n",
       "    <tr>\n",
       "      <th>17</th>\n",
       "      <td>2021-05-18 00:00:00+00:00</td>\n",
       "      <td>4185</td>\n",
       "    </tr>\n",
       "    <tr>\n",
       "      <th>18</th>\n",
       "      <td>2021-05-19 00:00:00+00:00</td>\n",
       "      <td>4871</td>\n",
       "    </tr>\n",
       "    <tr>\n",
       "      <th>19</th>\n",
       "      <td>2021-05-20 00:00:00+00:00</td>\n",
       "      <td>5797</td>\n",
       "    </tr>\n",
       "    <tr>\n",
       "      <th>20</th>\n",
       "      <td>2021-05-21 00:00:00+00:00</td>\n",
       "      <td>5746</td>\n",
       "    </tr>\n",
       "    <tr>\n",
       "      <th>21</th>\n",
       "      <td>2021-05-22 00:00:00+00:00</td>\n",
       "      <td>5296</td>\n",
       "    </tr>\n",
       "    <tr>\n",
       "      <th>22</th>\n",
       "      <td>2021-05-23 00:00:00+00:00</td>\n",
       "      <td>5280</td>\n",
       "    </tr>\n",
       "    <tr>\n",
       "      <th>23</th>\n",
       "      <td>2021-05-24 00:00:00+00:00</td>\n",
       "      <td>5907</td>\n",
       "    </tr>\n",
       "    <tr>\n",
       "      <th>24</th>\n",
       "      <td>2021-05-25 00:00:00+00:00</td>\n",
       "      <td>5060</td>\n",
       "    </tr>\n",
       "    <tr>\n",
       "      <th>25</th>\n",
       "      <td>2021-05-26 00:00:00+00:00</td>\n",
       "      <td>5034</td>\n",
       "    </tr>\n",
       "    <tr>\n",
       "      <th>26</th>\n",
       "      <td>2021-05-27 00:00:00+00:00</td>\n",
       "      <td>6278</td>\n",
       "    </tr>\n",
       "    <tr>\n",
       "      <th>27</th>\n",
       "      <td>2021-05-28 00:00:00+00:00</td>\n",
       "      <td>5862</td>\n",
       "    </tr>\n",
       "    <tr>\n",
       "      <th>28</th>\n",
       "      <td>2021-05-29 00:00:00+00:00</td>\n",
       "      <td>6565</td>\n",
       "    </tr>\n",
       "    <tr>\n",
       "      <th>29</th>\n",
       "      <td>2021-05-30 00:00:00+00:00</td>\n",
       "      <td>6115</td>\n",
       "    </tr>\n",
       "    <tr>\n",
       "      <th>30</th>\n",
       "      <td>2021-05-31 00:00:00+00:00</td>\n",
       "      <td>5662</td>\n",
       "    </tr>\n",
       "    <tr>\n",
       "      <th>31</th>\n",
       "      <td>2021-06-01 00:00:00+00:00</td>\n",
       "      <td>4824</td>\n",
       "    </tr>\n",
       "    <tr>\n",
       "      <th>32</th>\n",
       "      <td>2021-06-02 00:00:00+00:00</td>\n",
       "      <td>5246</td>\n",
       "    </tr>\n",
       "    <tr>\n",
       "      <th>33</th>\n",
       "      <td>2021-06-03 00:00:00+00:00</td>\n",
       "      <td>5353</td>\n",
       "    </tr>\n",
       "    <tr>\n",
       "      <th>34</th>\n",
       "      <td>2021-06-04 00:00:00+00:00</td>\n",
       "      <td>6486</td>\n",
       "    </tr>\n",
       "    <tr>\n",
       "      <th>35</th>\n",
       "      <td>2021-06-05 00:00:00+00:00</td>\n",
       "      <td>6594</td>\n",
       "    </tr>\n",
       "    <tr>\n",
       "      <th>36</th>\n",
       "      <td>2021-06-06 00:00:00+00:00</td>\n",
       "      <td>5832</td>\n",
       "    </tr>\n",
       "    <tr>\n",
       "      <th>37</th>\n",
       "      <td>2021-06-07 00:00:00+00:00</td>\n",
       "      <td>6993</td>\n",
       "    </tr>\n",
       "  </tbody>\n",
       "</table>\n",
       "</div>"
      ],
      "text/plain": [
       "                         Date  New Cases\n",
       "0   2021-05-01 00:00:00+00:00       4512\n",
       "1   2021-05-02 00:00:00+00:00       4394\n",
       "2   2021-05-03 00:00:00+00:00       4730\n",
       "3   2021-05-04 00:00:00+00:00       4369\n",
       "4   2021-05-05 00:00:00+00:00       5285\n",
       "5   2021-05-06 00:00:00+00:00       5647\n",
       "6   2021-05-07 00:00:00+00:00       6327\n",
       "7   2021-05-08 00:00:00+00:00       6130\n",
       "8   2021-05-09 00:00:00+00:00       3922\n",
       "9   2021-05-10 00:00:00+00:00       4891\n",
       "10  2021-05-11 00:00:00+00:00       5021\n",
       "11  2021-05-12 00:00:00+00:00       4608\n",
       "12  2021-05-13 00:00:00+00:00       3448\n",
       "13  2021-05-14 00:00:00+00:00       2633\n",
       "14  2021-05-15 00:00:00+00:00       2385\n",
       "15  2021-05-16 00:00:00+00:00       3080\n",
       "16  2021-05-17 00:00:00+00:00       4295\n",
       "17  2021-05-18 00:00:00+00:00       4185\n",
       "18  2021-05-19 00:00:00+00:00       4871\n",
       "19  2021-05-20 00:00:00+00:00       5797\n",
       "20  2021-05-21 00:00:00+00:00       5746\n",
       "21  2021-05-22 00:00:00+00:00       5296\n",
       "22  2021-05-23 00:00:00+00:00       5280\n",
       "23  2021-05-24 00:00:00+00:00       5907\n",
       "24  2021-05-25 00:00:00+00:00       5060\n",
       "25  2021-05-26 00:00:00+00:00       5034\n",
       "26  2021-05-27 00:00:00+00:00       6278\n",
       "27  2021-05-28 00:00:00+00:00       5862\n",
       "28  2021-05-29 00:00:00+00:00       6565\n",
       "29  2021-05-30 00:00:00+00:00       6115\n",
       "30  2021-05-31 00:00:00+00:00       5662\n",
       "31  2021-06-01 00:00:00+00:00       4824\n",
       "32  2021-06-02 00:00:00+00:00       5246\n",
       "33  2021-06-03 00:00:00+00:00       5353\n",
       "34  2021-06-04 00:00:00+00:00       6486\n",
       "35  2021-06-05 00:00:00+00:00       6594\n",
       "36  2021-06-06 00:00:00+00:00       5832\n",
       "37  2021-06-07 00:00:00+00:00       6993"
      ]
     },
     "execution_count": 4,
     "metadata": {
      "tags": []
     },
     "output_type": "execute_result"
    }
   ],
   "source": [
    "#loading covid data \n",
    "cv  = pd.read_csv('drive/My Drive/Thesis/Data/cov_data_may.csv')\n",
    "cv_case = cv[['Date','New Cases']]\n",
    "cv_case\n",
    "\n",
    "\n"
   ]
  },
  {
   "cell_type": "markdown",
   "metadata": {
    "id": "OuFQlv5v2Hyr"
   },
   "source": [
    "# ===========================================\n",
    "Linear Regression"
   ]
  },
  {
   "cell_type": "code",
   "execution_count": null,
   "metadata": {
    "colab": {
     "base_uri": "https://localhost:8080/",
     "height": 585
    },
    "id": "6gjT-HxcdGOy",
    "outputId": "fff2d13e-c91d-4d78-c22a-20f4f8faeb80"
   },
   "outputs": [
    {
     "name": "stderr",
     "output_type": "stream",
     "text": [
      "/usr/local/lib/python3.7/dist-packages/ipykernel_launcher.py:8: SettingWithCopyWarning: \n",
      "A value is trying to be set on a copy of a slice from a DataFrame.\n",
      "Try using .loc[row_indexer,col_indexer] = value instead\n",
      "\n",
      "See the caveats in the documentation: https://pandas.pydata.org/pandas-docs/stable/user_guide/indexing.html#returning-a-view-versus-a-copy\n",
      "  \n",
      "/usr/local/lib/python3.7/dist-packages/torch/nn/modules/loss.py:528: UserWarning: Using a target size (torch.Size([31])) that is different to the input size (torch.Size([31, 1])). This will likely lead to incorrect results due to broadcasting. Please ensure they have the same size.\n",
      "  return F.mse_loss(input, target, reduction=self.reduction)\n"
     ]
    },
    {
     "name": "stdout",
     "output_type": "stream",
     "text": [
      "Epoch [100/1000], Loss: 6381667.5000\n",
      "Epoch [200/1000], Loss: 5903254.0000\n",
      "Epoch [300/1000], Loss: 5468217.0000\n",
      "Epoch [400/1000], Loss: 5072623.0000\n",
      "Epoch [500/1000], Loss: 4712897.5000\n",
      "Epoch [600/1000], Loss: 4385788.0000\n",
      "Epoch [700/1000], Loss: 4088336.5000\n",
      "Epoch [800/1000], Loss: 3817853.7500\n",
      "Epoch [900/1000], Loss: 3571895.7500\n",
      "Epoch [1000/1000], Loss: 3348238.5000\n"
     ]
    },
    {
     "data": {
      "image/png": "[encoded data removed]",
      "text/plain": [
       "<Figure size 432x288 with 1 Axes>"
      ]
     },
     "metadata": {
      "needs_background": "light",
      "tags": []
     },
     "output_type": "display_data"
    }
   ],
   "source": [
    "# Hyper-parameters\n",
    "input_size = 1\n",
    "output_size = 1\n",
    "num_epochs = 1000\n",
    "learning_rate = 0.001\n",
    "\n",
    "# Toy dataset\n",
    "cv_case['day_count'] = list(range(1,len(cv_case)+1))\n",
    "ydata = [i for i in cv_case['New Cases']]\n",
    "xdata = cv_case['day_count']\n",
    "ydata = np.array(ydata,  dtype=np.float32)\n",
    "xdata = np.array(xdata, dtype=np.float32)\n",
    "\n",
    "x_train = xdata[:31]\n",
    "y_train = ydata[:31]\n",
    "x_test= xdata[31:]\n",
    "y_test= ydata[31:]\n",
    "\n",
    "# Linear regression model\n",
    "model = nn.Linear(input_size, output_size)\n",
    "\n",
    "# Loss and optimizer\n",
    "criterion = nn.MSELoss()\n",
    "optimizer = torch.optim.SGD(model.parameters(), lr=learning_rate)  \n",
    "\n",
    "# Train the model\n",
    "for epoch in range(num_epochs):\n",
    "    # Convert numpy arrays to torch tensors\n",
    "    inputs = torch.from_numpy(x_train).reshape(-1,1)\n",
    "    targets = torch.from_numpy(y_train)\n",
    "\n",
    "    # Forward pass\n",
    "    outputs = model(inputs)\n",
    "    loss = criterion(outputs, targets)\n",
    "    \n",
    "    # Backward and optimize\n",
    "    optimizer.zero_grad()\n",
    "    loss.backward()\n",
    "    optimizer.step()\n",
    "    \n",
    "    if (epoch+1) % 100 == 0:\n",
    "        print ('Epoch [{}/{}], Loss: {:.4f}'.format(epoch+1, num_epochs, loss.item()))\n",
    "\n",
    "# Plot the graph\n",
    "predicted = model(torch.from_numpy(x_test).reshape(-1,1)).detach().numpy()\n",
    "plt.plot(x_test, y_test, 'ro', label='Original data')\n",
    "plt.plot(x_test, predicted, label='Fitted line')\n",
    "plt.legend()\n",
    "plt.show()"
   ]
  },
  {
   "cell_type": "code",
   "execution_count": null,
   "metadata": {
    "colab": {
     "base_uri": "https://localhost:8080/"
    },
    "id": "Q6S7w6lTlBmq",
    "outputId": "096e0334-e735-468b-c506-441c1c28cf10"
   },
   "outputs": [
    {
     "data": {
      "text/plain": [
       "array([[6556.6025],\n",
       "       [6702.7974],\n",
       "       [6848.9917],\n",
       "       [6995.1865],\n",
       "       [7141.3813],\n",
       "       [7287.576 ],\n",
       "       [7433.7705]], dtype=float32)"
      ]
     },
     "execution_count": 15,
     "metadata": {
      "tags": []
     },
     "output_type": "execute_result"
    }
   ],
   "source": [
    "predicted"
   ]
  },
  {
   "cell_type": "code",
   "execution_count": null,
   "metadata": {
    "colab": {
     "base_uri": "https://localhost:8080/",
     "height": 553
    },
    "id": "ItOhdnrUzUpL",
    "outputId": "48ef46fc-84c0-4b60-d74c-652fb76093b4"
   },
   "outputs": [
    {
     "data": {
      "image/png": "[encoded data removed]",
      "text/plain": [
       "<Figure size 1296x648 with 1 Axes>"
      ]
     },
     "metadata": {
      "needs_background": "light",
      "tags": []
     },
     "output_type": "display_data"
    }
   ],
   "source": [
    "#plotting prediction\n",
    "model = 'linear_regression'\n",
    "dr = 'drive/My Drive/Thesis/Data/images/prediction_june/'\n",
    "x = np.arange(31, 38, 1)\n",
    "plt.subplots(figsize=(18, 9))\n",
    "plt.title('New cases prediction')\n",
    "plt.ylabel('Daily new cases')\n",
    "plt.grid(True)\n",
    "plt.autoscale(axis='x', tight=True)\n",
    "plt.plot(cv_case['New Cases'])\n",
    "plt.plot(x, predicted)\n",
    "plt.savefig(dr + model + '_prediction')   \n",
    "plt.show()"
   ]
  },
  {
   "cell_type": "code",
   "execution_count": null,
   "metadata": {
    "colab": {
     "base_uri": "https://localhost:8080/"
    },
    "id": "PRELkeB1gjkn",
    "outputId": "b6812f78-e020-47a7-cca4-096fa67cb681"
   },
   "outputs": [
    {
     "name": "stdout",
     "output_type": "stream",
     "text": [
      "MAE :  1128.4296\n",
      "MAPE :  16.01075381040573\n",
      "MSE :  1835069.9\n",
      "RMSE :  1354.6475\n"
     ]
    }
   ],
   "source": [
    "print('MAE : ', mae( y_test, predicted))\n",
    "print('MAPE : ', mape( y_test, predicted))\n",
    "print('MSE : ', mse( y_test, predicted))\n",
    "print('RMSE : ', rmse( y_test, predicted))"
   ]
  },
  {
   "cell_type": "code",
   "execution_count": null,
   "metadata": {
    "colab": {
     "base_uri": "https://localhost:8080/"
    },
    "id": "hhHjJGrGOCsZ",
    "outputId": "501f1df7-b44b-4177-ae9b-649e84eb98ee"
   },
   "outputs": [
    {
     "name": "stdout",
     "output_type": "stream",
     "text": [
      "MAE :  1128.6628\n",
      "MAPE :  16.01342111825943\n",
      "MSE :  1835682.5\n",
      "RMSE :  1354.8737\n"
     ]
    }
   ],
   "source": [
    "print('MAE : ', mae( y_test, predicted))\n",
    "print('MAPE : ', mape( y_test, predicted))\n",
    "print('MSE : ', mse( y_test, predicted))\n",
    "print('RMSE : ', rmse( y_test, predicted))"
   ]
  },
  {
   "cell_type": "code",
   "execution_count": null,
   "metadata": {
    "colab": {
     "base_uri": "https://localhost:8080/"
    },
    "id": "lJiLjYpxOIZT",
    "outputId": "bdbbec29-bd42-4b63-cfcd-15a628474634"
   },
   "outputs": [
    {
     "name": "stdout",
     "output_type": "stream",
     "text": [
      "MAE :  1128.3563\n",
      "MAPE :  16.009917855262756\n",
      "MSE :  1834877.4\n",
      "RMSE :  1354.5764\n"
     ]
    }
   ],
   "source": [
    "print('MAE : ', mae( y_test, predicted))\n",
    "print('MAPE : ', mape( y_test, predicted))\n",
    "print('MSE : ', mse( y_test, predicted))\n",
    "print('RMSE : ', rmse( y_test, predicted))"
   ]
  },
  {
   "cell_type": "code",
   "execution_count": null,
   "metadata": {
    "colab": {
     "base_uri": "https://localhost:8080/"
    },
    "id": "rK9Qh1hrOL74",
    "outputId": "4778b0b1-b86f-40fb-94bc-e165a31ff78a"
   },
   "outputs": [
    {
     "name": "stdout",
     "output_type": "stream",
     "text": [
      "MAE :  1128.5049\n",
      "MAPE :  16.011615097522736\n",
      "MSE :  1835267.4\n",
      "RMSE :  1354.7205\n"
     ]
    }
   ],
   "source": [
    "print('MAE : ', mae( y_test, predicted))\n",
    "print('MAPE : ', mape( y_test, predicted))\n",
    "print('MSE : ', mse( y_test, predicted))\n",
    "print('RMSE : ', rmse( y_test, predicted))"
   ]
  },
  {
   "cell_type": "code",
   "execution_count": null,
   "metadata": {
    "colab": {
     "base_uri": "https://localhost:8080/"
    },
    "id": "Q-YEIit2OQrR",
    "outputId": "31ea38a7-78de-4a32-cd94-2156cfa6d103"
   },
   "outputs": [
    {
     "name": "stdout",
     "output_type": "stream",
     "text": [
      "MAE :  1128.248\n",
      "MAPE :  16.008681058883667\n",
      "MSE :  1834593.1\n",
      "RMSE :  1354.4716\n"
     ]
    }
   ],
   "source": [
    "print('MAE : ', mae( y_test, predicted))\n",
    "print('MAPE : ', mape( y_test, predicted))\n",
    "print('MSE : ', mse( y_test, predicted))\n",
    "print('RMSE : ', rmse( y_test, predicted))"
   ]
  }
 ],
 "metadata": {
  "colab": {
   "collapsed_sections": [],
   "name": "task2_regressions_june.ipynb",
   "provenance": []
  },
  "kernelspec": {
   "display_name": "Python 3",
   "language": "python",
   "name": "python3"
  },
  "language_info": {
   "codemirror_mode": {
    "name": "ipython",
    "version": 3
   },
   "file_extension": ".py",
   "mimetype": "text/x-python",
   "name": "python",
   "nbconvert_exporter": "python",
   "pygments_lexer": "ipython3",
   "version": "3.7.6"
  }
 },
 "nbformat": 4,
 "nbformat_minor": 4
}
